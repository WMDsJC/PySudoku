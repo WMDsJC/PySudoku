{
 "cells": [
  {
   "cell_type": "code",
   "execution_count": 1,
   "metadata": {
    "collapsed": true
   },
   "outputs": [],
   "source": [
    "import random\n",
    "numbers = [1,2,3,4,5,6,7,8,9]\n",
    "\n",
    "def makeBoard():\n",
    "    board = None\n",
    "    while board is None:\n",
    "        board = attemptBoard()\n",
    "    return board\n",
    "\n",
    "def attemptBoard():\n",
    "    board = [[None for _ in range(9)] for _ in range(9)]\n",
    "    for i in range(9):\n",
    "        for j in range(9):\n",
    "            checking = numbers[:]\n",
    "            random.shuffle(checking)\n",
    "            x = -1\n",
    "            loopStart = 0\n",
    "            while board[i][j] is None:\n",
    "                x += 1\n",
    "                if x == 9:\n",
    "                    #No number is valid in this cell, start over\n",
    "                    return None\n",
    "                checkMe = [checking[x],True]\n",
    "                if checkMe in board[i]:\n",
    "                    #If it's already in this row\n",
    "                    continue\n",
    "                checkis = False\n",
    "                for checkRow in board:\n",
    "                    if checkRow[j] == checkMe:\n",
    "                        #If it's already in this column\n",
    "                        checkis = True\n",
    "                if checkis: continue\n",
    "                #Check if the number is elsewhere in this 3x3 grid based on where this is in the 3x3 grid\n",
    "                if i % 3 == 1:\n",
    "                    if   j % 3 == 0 and checkMe in (board[i-1][j+1],board[i-1][j+2]): continue\n",
    "                    elif j % 3 == 1 and checkMe in (board[i-1][j-1],board[i-1][j+1]): continue\n",
    "                    elif j % 3 == 2 and checkMe in (board[i-1][j-1],board[i-1][j-2]): continue\n",
    "                elif i % 3 == 2:\n",
    "                    if   j % 3 == 0 and checkMe in (board[i-1][j+1],board[i-1][j+2],board[i-2][j+1],board[i-2][j+2]): continue\n",
    "                    elif j % 3 == 1 and checkMe in (board[i-1][j-1],board[i-1][j+1],board[i-2][j-1],board[i-2][j+1]): continue\n",
    "                    elif j % 3 == 2 and checkMe in (board[i-1][j-1],board[i-1][j-2],board[i-2][j-1],board[i-2][j-2]): continue\n",
    "                #If we've reached here, the number is valid.\n",
    "                board[i][j] = checkMe\n",
    "    return board\n",
    "\n",
    "\n",
    "def printBoard(board):\n",
    "    spacer = \"++---+---+---++---+---+---++---+---+---++\"\n",
    "    print (spacer.replace('-','='))\n",
    "    for i,line in enumerate(board):\n",
    "        print (\"|| {} | {} | {} || {} | {} | {} || {} | {} | {} ||\".format(\n",
    "                    line[0][0] if line[0][1] else ' ',\n",
    "                    line[1][0] if line[1][1] else ' ',\n",
    "                    line[2][0] if line[2][1] else ' ',\n",
    "                    line[3][0] if line[3][1] else ' ',\n",
    "                    line[4][0] if line[4][1] else ' ',\n",
    "                    line[5][0] if line[5][1] else ' ',\n",
    "                    line[6][0] if line[6][1] else ' ',\n",
    "                    line[7][0] if line[7][1] else ' ',\n",
    "                    line[8][0] if line[8][1] else ' ',))\n",
    "        if (i+1) % 3 == 0: print(spacer.replace('-','='))\n",
    "        else: print(spacer)"
   ]
  },
  {
   "cell_type": "code",
   "execution_count": 4,
   "metadata": {},
   "outputs": [
    {
     "data": {
      "text/plain": [
       "[[None, None, None, None, None, None, None, None, None],\n",
       " [None, None, None, None, None, None, None, None, None],\n",
       " [None, None, None, None, None, None, None, None, None],\n",
       " [None, None, None, None, None, None, None, None, None],\n",
       " [None, None, None, None, None, None, None, None, None],\n",
       " [None, None, None, None, None, None, None, None, None],\n",
       " [None, None, None, None, None, None, None, None, None],\n",
       " [None, None, None, None, None, None, None, None, None],\n",
       " [None, None, None, None, None, None, None, None, None]]"
      ]
     },
     "execution_count": 4,
     "metadata": {},
     "output_type": "execute_result"
    }
   ],
   "source": [
    "[[None for _ in range(9)] for _ in range(9)]"
   ]
  },
  {
   "cell_type": "code",
   "execution_count": 3,
   "metadata": {},
   "outputs": [
    {
     "name": "stdout",
     "output_type": "stream",
     "text": [
      "++===+===+===++===+===+===++===+===+===++\n",
      "|| 6 | 9 | 3 || 5 | 1 | 8 || 2 | 7 | 4 ||\n",
      "++---+---+---++---+---+---++---+---+---++\n",
      "|| 7 | 2 | 4 || 6 | 3 | 9 || 5 | 8 | 1 ||\n",
      "++---+---+---++---+---+---++---+---+---++\n",
      "|| 1 | 8 | 5 || 7 | 2 | 4 || 9 | 6 | 3 ||\n",
      "++===+===+===++===+===+===++===+===+===++\n",
      "|| 4 | 6 | 9 || 2 | 8 | 7 || 1 | 3 | 5 ||\n",
      "++---+---+---++---+---+---++---+---+---++\n",
      "|| 3 | 5 | 2 || 4 | 6 | 1 || 7 | 9 | 8 ||\n",
      "++---+---+---++---+---+---++---+---+---++\n",
      "|| 8 | 1 | 7 || 3 | 9 | 5 || 6 | 4 | 2 ||\n",
      "++===+===+===++===+===+===++===+===+===++\n",
      "|| 5 | 3 | 6 || 9 | 4 | 2 || 8 | 1 | 7 ||\n",
      "++---+---+---++---+---+---++---+---+---++\n",
      "|| 9 | 7 | 8 || 1 | 5 | 3 || 4 | 2 | 6 ||\n",
      "++---+---+---++---+---+---++---+---+---++\n",
      "|| 2 | 4 | 1 || 8 | 7 | 6 || 3 | 5 | 9 ||\n",
      "++===+===+===++===+===+===++===+===+===++\n"
     ]
    }
   ],
   "source": [
    "printBoard(makeBoard())"
   ]
  },
  {
   "cell_type": "code",
   "execution_count": null,
   "metadata": {
    "collapsed": true
   },
   "outputs": [],
   "source": []
  }
 ],
 "metadata": {
  "kernelspec": {
   "display_name": "Python 3",
   "language": "python",
   "name": "python3"
  },
  "language_info": {
   "codemirror_mode": {
    "name": "ipython",
    "version": 3
   },
   "file_extension": ".py",
   "mimetype": "text/x-python",
   "name": "python",
   "nbconvert_exporter": "python",
   "pygments_lexer": "ipython3",
   "version": "3.6.0"
  }
 },
 "nbformat": 4,
 "nbformat_minor": 2
}
